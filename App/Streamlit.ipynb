{
 "cells": [
  {
   "cell_type": "code",
   "execution_count": 4,
   "metadata": {},
   "outputs": [
    {
     "name": "stdout",
     "output_type": "stream",
     "text": [
      "Overwriting Stream.py\n"
     ]
    }
   ],
   "source": [
    "%%writefile Stream.py\n",
    "\n",
    "import streamlit as st\n",
    "st.write(\"Hello, Streamlit!\")"
   ]
  },
  {
   "cell_type": "markdown",
   "metadata": {},
   "source": [
    "streamlit run St_Spotify.py --server.port=8086 --browser.serverAddress='177.192.12.238'"
   ]
  },
  {
   "cell_type": "code",
   "execution_count": 27,
   "metadata": {},
   "outputs": [
    {
     "name": "stdout",
     "output_type": "stream",
     "text": [
      "Overwriting St_Spotify.py\n"
     ]
    }
   ],
   "source": [
    "%%writefile St_Spotify.py\n",
    "import streamlit as st\n",
    "\n",
    "st.title(\"Spotify\")\n",
    "st.header(\"As Músicas Mais Transmitidas do Spotify em 2024\")\n",
    "st.subheader(\"Conheça quais foram as músicas mais ouvidas\")\n",
    "st.text(\"Top 10\")\n",
    "st.markdown(\"**Acesse nossa** [página oficial](https://www.spotify.com/br/)\")\n",
    "\n",
    "import pandas as pd\n",
    "df = pd.read_csv(r\"C:\\Users\\RodrigoPintoMesquita\\Documents\\Ambientes\\STR_TP1\\Data\\Spotify2024.csv\", encoding='ISO-8859-1')\n",
    "df = df.sort_values(by='Spotify Streams', ascending=False).head(10).reset_index(drop=True)\n",
    "df.index += 1\n",
    "\n",
    "st.dataframe(df)\n",
    "st.table(df)\n",
    "\n"
   ]
  }
 ],
 "metadata": {
  "kernelspec": {
   "display_name": "STR_TP1-81GzETzl",
   "language": "python",
   "name": "python3"
  },
  "language_info": {
   "codemirror_mode": {
    "name": "ipython",
    "version": 3
   },
   "file_extension": ".py",
   "mimetype": "text/x-python",
   "name": "python",
   "nbconvert_exporter": "python",
   "pygments_lexer": "ipython3",
   "version": "3.11.5"
  }
 },
 "nbformat": 4,
 "nbformat_minor": 2
}
